{
 "cells": [
  {
   "cell_type": "markdown",
   "id": "97f7f0ab",
   "metadata": {},
   "source": [
    "### List and Operation"
   ]
  },
  {
   "cell_type": "code",
   "execution_count": 9,
   "id": "45ea1015",
   "metadata": {},
   "outputs": [
    {
     "data": {
      "text/plain": [
       "[0, 1, 2, 3, 4]"
      ]
     },
     "execution_count": 9,
     "metadata": {},
     "output_type": "execute_result"
    }
   ],
   "source": [
    "num = list(range(5))\n",
    "num"
   ]
  },
  {
   "cell_type": "code",
   "execution_count": 20,
   "id": "945c6cbc",
   "metadata": {},
   "outputs": [
    {
     "name": "stdout",
     "output_type": "stream",
     "text": [
      "a: [1, 2, 3]\n",
      "b: [1, 2, 3]\n"
     ]
    },
    {
     "data": {
      "text/plain": [
       "[1, 2, 3, 1, 2, 3]"
      ]
     },
     "execution_count": 20,
     "metadata": {},
     "output_type": "execute_result"
    }
   ],
   "source": [
    "a = [1,2,3]\n",
    "b = [1,2,3]\n",
    "print(\"a:\",a)\n",
    "print(\"b:\",b)\n",
    "a+b"
   ]
  },
  {
   "cell_type": "code",
   "execution_count": 22,
   "id": "0e899e5b",
   "metadata": {},
   "outputs": [
    {
     "data": {
      "text/plain": [
       "([1, 2, 3, 4, 5, 6, 7, 8, 9], [1, 2, 3, 4, 5])"
      ]
     },
     "execution_count": 22,
     "metadata": {},
     "output_type": "execute_result"
    }
   ],
   "source": [
    "a = [1,2,3,4,5,6,7,8,9]\n",
    "b = a[0:5]\n",
    "a,b"
   ]
  },
  {
   "cell_type": "code",
   "execution_count": 25,
   "id": "c7562ba2",
   "metadata": {},
   "outputs": [
    {
     "data": {
      "text/plain": [
       "[1, 2, 10, 20, 30, 6, 7, 8, 9]"
      ]
     },
     "execution_count": 25,
     "metadata": {},
     "output_type": "execute_result"
    }
   ],
   "source": [
    "a = [1,2,3,4,5,6,7,8,9]\n",
    "a[2:5] = [10,20,30]\n",
    "a"
   ]
  },
  {
   "cell_type": "markdown",
   "id": "0380d652",
   "metadata": {},
   "source": [
    "### Split()"
   ]
  },
  {
   "cell_type": "code",
   "execution_count": 29,
   "id": "03b49c49",
   "metadata": {},
   "outputs": [
    {
     "data": {
      "text/plain": [
       "(str, list, 'python is very useful', ['python', 'is', 'very', 'useful'])"
      ]
     },
     "execution_count": 29,
     "metadata": {},
     "output_type": "execute_result"
    }
   ],
   "source": [
    "word = \"python is very useful\"\n",
    "wordList = word.split()\n",
    "type(word),type(wordList),word,wordList"
   ]
  },
  {
   "cell_type": "markdown",
   "id": "48e2e584",
   "metadata": {},
   "source": [
    "### Extend()"
   ]
  },
  {
   "cell_type": "code",
   "execution_count": 34,
   "id": "49cd04aa",
   "metadata": {},
   "outputs": [
    {
     "data": {
      "text/plain": [
       "[1, 2, 3, 4, 10, 20, 30, 40]"
      ]
     },
     "execution_count": 34,
     "metadata": {},
     "output_type": "execute_result"
    }
   ],
   "source": [
    "a = [1,2,3,4]\n",
    "b = [10,20,30,40]\n",
    "a.extend(b)\n",
    "a"
   ]
  },
  {
   "cell_type": "markdown",
   "id": "6e8432f7",
   "metadata": {},
   "source": [
    "### Insert()"
   ]
  },
  {
   "cell_type": "code",
   "execution_count": 42,
   "id": "e3a1383a",
   "metadata": {},
   "outputs": [
    {
     "data": {
      "text/plain": [
       "[0, 1, 50, 2, 3, 4, 5]"
      ]
     },
     "execution_count": 42,
     "metadata": {},
     "output_type": "execute_result"
    }
   ],
   "source": [
    "a = [0,1,2,3,4,5]\n",
    "a.insert(2,50)\n",
    "a"
   ]
  },
  {
   "cell_type": "markdown",
   "id": "5e968e99",
   "metadata": {},
   "source": [
    "### pop()"
   ]
  },
  {
   "cell_type": "code",
   "execution_count": 43,
   "id": "64204f6d",
   "metadata": {},
   "outputs": [
    {
     "data": {
      "text/plain": [
       "(5, [1, 2, 3, 4])"
      ]
     },
     "execution_count": 43,
     "metadata": {},
     "output_type": "execute_result"
    }
   ],
   "source": [
    "a = [1,2,3,4,5]\n",
    "a.pop(),a"
   ]
  },
  {
   "cell_type": "code",
   "execution_count": 44,
   "id": "7a686819",
   "metadata": {},
   "outputs": [
    {
     "data": {
      "text/plain": [
       "(1, [2, 3, 4, 5])"
      ]
     },
     "execution_count": 44,
     "metadata": {},
     "output_type": "execute_result"
    }
   ],
   "source": [
    "a = [1,2,3,4,5]\n",
    "a.pop(0),a"
   ]
  },
  {
   "cell_type": "markdown",
   "id": "bdcf5574",
   "metadata": {},
   "source": [
    "### Aliasing and side effect"
   ]
  },
  {
   "cell_type": "code",
   "execution_count": 48,
   "id": "4ffaf7d0",
   "metadata": {},
   "outputs": [
    {
     "name": "stdout",
     "output_type": "stream",
     "text": [
      "befor: [1, 2, 3, 4, 5]\n",
      "befor: [1, 2, 3, 4, 5]\n",
      "after: [99, 2, 3, 4, 5]\n",
      "after: [99, 2, 3, 4, 5]\n"
     ]
    }
   ],
   "source": [
    "first = [1,2,3,4,5]\n",
    "second = first\n",
    "print(\"before:\",first)\n",
    "print(\"before:\",second)\n",
    "second[0] = 99\n",
    "print(\"after:\",first)\n",
    "print(\"after:\",second)"
   ]
  },
  {
   "cell_type": "markdown",
   "id": "6b578772",
   "metadata": {},
   "source": [
    "##### Here fisrt and second points to the same list so the changes are afffected in both variables"
   ]
  },
  {
   "cell_type": "markdown",
   "id": "6edff35c",
   "metadata": {},
   "source": [
    "### Aliasis Prevention"
   ]
  },
  {
   "cell_type": "code",
   "execution_count": 53,
   "id": "fff626c6",
   "metadata": {},
   "outputs": [
    {
     "name": "stdout",
     "output_type": "stream",
     "text": [
      "befor: [1, 2, 3, 4, 5]\n",
      "befor: [1, 2, 3, 4, 5]\n",
      "after: [99, 2, 3, 4, 5]\n",
      "after: [1, 2, 3, 4, 5]\n"
     ]
    }
   ],
   "source": [
    "first = [1,2,3,4,5]\n",
    "second = []\n",
    "for x in first:\n",
    "    second.append(x)\n",
    "print(\"before:\",first)\n",
    "print(\"before:\",second)\n",
    "first[0] = 99\n",
    "print(\"after:\",first)\n",
    "print(\"after:\",second)"
   ]
  },
  {
   "cell_type": "markdown",
   "id": "a92379c1",
   "metadata": {},
   "source": [
    "#### Here based on the first(object 1) we create an other object called second both are in different memory"
   ]
  },
  {
   "cell_type": "markdown",
   "id": "1b1185d1",
   "metadata": {},
   "source": [
    "### difference between \"==\" and \"is\" operator"
   ]
  },
  {
   "cell_type": "markdown",
   "id": "83cac5d4",
   "metadata": {},
   "source": [
    "#### == -> check whether the variable values are same or not, it doesn't bothered about it is same object or not\n",
    "#### is -> It check whether the variable values are same or not and they are same object or not"
   ]
  },
  {
   "cell_type": "code",
   "execution_count": 4,
   "id": "a01e4cf6",
   "metadata": {},
   "outputs": [
    {
     "name": "stdout",
     "output_type": "stream",
     "text": [
      "first == second: True\n",
      "first == third: True\n",
      "first is second: True\n",
      "first is third: False\n"
     ]
    }
   ],
   "source": [
    "first = [1,2,3,5,6]\n",
    "second = first\n",
    "third = [] #for create an another object with same value as fisrt\n",
    "for x in fisrt:\n",
    "    third.append(x)\n",
    "    \n",
    "print(\"first == second:\",first == second)\n",
    "print(\"first == third:\",fisrt == third)\n",
    "\n",
    "print(\"first is second:\",first is second)\n",
    "print(\"first is third:\",first is third)"
   ]
  },
  {
   "cell_type": "markdown",
   "id": "be914421",
   "metadata": {},
   "source": [
    "### List comprehension"
   ]
  },
  {
   "cell_type": "code",
   "execution_count": 6,
   "id": "4e432a00",
   "metadata": {},
   "outputs": [
    {
     "data": {
      "text/plain": [
       "[1, 4, 9, 16, 25, 36]"
      ]
     },
     "execution_count": 6,
     "metadata": {},
     "output_type": "execute_result"
    }
   ],
   "source": [
    "a = [1,2,3,4,5,6]\n",
    "a_square = [x**2 for x in a]\n",
    "a_square"
   ]
  },
  {
   "cell_type": "markdown",
   "id": "8f6d2864",
   "metadata": {},
   "source": [
    "### Recursive functions"
   ]
  },
  {
   "cell_type": "code",
   "execution_count": 16,
   "id": "5c189892",
   "metadata": {},
   "outputs": [
    {
     "data": {
      "text/plain": [
       "15"
      ]
     },
     "execution_count": 16,
     "metadata": {},
     "output_type": "execute_result"
    }
   ],
   "source": [
    "def sum_of_range(lower,upper):\n",
    "    if lower > upper:\n",
    "        return 0\n",
    "    else:\n",
    "        return lower + sum_of_range(lower + 1,upper)\n",
    "range_sum = sum_of_range(1,5)\n",
    "range_sum"
   ]
  },
  {
   "cell_type": "code",
   "execution_count": 22,
   "id": "5541803a",
   "metadata": {},
   "outputs": [
    {
     "data": {
      "text/plain": [
       "120"
      ]
     },
     "execution_count": 22,
     "metadata": {},
     "output_type": "execute_result"
    }
   ],
   "source": [
    "def factorial(limit):\n",
    "    if limit == 1:\n",
    "        return 1\n",
    "    else:\n",
    "        return limit * factorial(limit-1)\n",
    "factorial(5)"
   ]
  },
  {
   "cell_type": "code",
   "execution_count": 26,
   "id": "a56d5432",
   "metadata": {},
   "outputs": [
    {
     "name": "stdout",
     "output_type": "stream",
     "text": [
      "0\n",
      "1\n",
      "1\n",
      "2\n",
      "3\n",
      "5\n",
      "8\n",
      "13\n",
      "21\n",
      "34\n"
     ]
    }
   ],
   "source": [
    "num = 10\n",
    "n1 = 0\n",
    "n2 = 1\n",
    "print(n1)\n",
    "print(n2)\n",
    "for i in range(2,num):\n",
    "    n3 = n1 + n2\n",
    "    n1 = n2\n",
    "    n2 = n3\n",
    "    print(n3)"
   ]
  },
  {
   "cell_type": "code",
   "execution_count": 29,
   "id": "ed3e3672",
   "metadata": {},
   "outputs": [
    {
     "data": {
      "text/plain": [
       "8"
      ]
     },
     "execution_count": 29,
     "metadata": {},
     "output_type": "execute_result"
    }
   ],
   "source": [
    "def fib(n):\n",
    "    if n < 3:\n",
    "        return 1\n",
    "    else:\n",
    "        return fib(n-1) + fib(n-2)\n",
    "fib(6)"
   ]
  },
  {
   "cell_type": "markdown",
   "id": "97b1d1ff",
   "metadata": {},
   "source": [
    " "
   ]
  },
  {
   "cell_type": "markdown",
   "id": "a10defdb",
   "metadata": {},
   "source": [
    " "
   ]
  },
  {
   "cell_type": "markdown",
   "id": "c298b5d9",
   "metadata": {},
   "source": [
    "## Higher Order Functions"
   ]
  },
  {
   "cell_type": "markdown",
   "id": "762d4f69",
   "metadata": {},
   "source": [
    "### Mapping"
   ]
  },
  {
   "cell_type": "code",
   "execution_count": 1,
   "id": "6275330c",
   "metadata": {},
   "outputs": [
    {
     "data": {
      "text/plain": [
       "[1, 2, 3, 4, 5]"
      ]
     },
     "execution_count": 1,
     "metadata": {},
     "output_type": "execute_result"
    }
   ],
   "source": [
    "number_in_str = ['1','2','3','4','5']\n",
    "number = list(map(int,number_in_str))\n",
    "number"
   ]
  },
  {
   "cell_type": "code",
   "execution_count": 2,
   "id": "b2dd68e5",
   "metadata": {},
   "outputs": [],
   "source": [
    "import math"
   ]
  },
  {
   "cell_type": "code",
   "execution_count": 3,
   "id": "8084d7a4",
   "metadata": {},
   "outputs": [
    {
     "data": {
      "text/plain": [
       "[1.0, 1.4142135623730951, 1.7320508075688772, 2.0, 2.23606797749979]"
      ]
     },
     "execution_count": 3,
     "metadata": {},
     "output_type": "execute_result"
    }
   ],
   "source": [
    "number_sqr = list(map(math.sqrt,number))\n",
    "number_sqr"
   ]
  },
  {
   "cell_type": "code",
   "execution_count": 7,
   "id": "488dfc8c",
   "metadata": {},
   "outputs": [
    {
     "data": {
      "text/plain": [
       "[1, 8, 27, 64, 125]"
      ]
     },
     "execution_count": 7,
     "metadata": {},
     "output_type": "execute_result"
    }
   ],
   "source": [
    "def cube(n):\n",
    "    return n**3\n",
    "number_cube = list(map(cube,number))\n",
    "number_cube"
   ]
  },
  {
   "cell_type": "code",
   "execution_count": 21,
   "id": "1e548cd7",
   "metadata": {},
   "outputs": [
    {
     "data": {
      "text/plain": [
       "[1, 3, 4, 4, 5]"
      ]
     },
     "execution_count": 21,
     "metadata": {},
     "output_type": "execute_result"
    }
   ],
   "source": [
    "numbers = [1.2,2.7,3.6,4.2,5]\n",
    "\n",
    "round_list = list(map(round,numbers))\n",
    "round_list"
   ]
  },
  {
   "cell_type": "markdown",
   "id": "a977eaed",
   "metadata": {},
   "source": [
    "### Filter"
   ]
  },
  {
   "cell_type": "code",
   "execution_count": 24,
   "id": "e6c7ac8f",
   "metadata": {},
   "outputs": [
    {
     "data": {
      "text/plain": [
       "[1, 2, 3, 4, 5]"
      ]
     },
     "execution_count": 24,
     "metadata": {},
     "output_type": "execute_result"
    }
   ],
   "source": [
    "def cube(n):\n",
    "    return n**3\n",
    "cubes = list(filter(cube,number))\n",
    "cubes"
   ]
  },
  {
   "cell_type": "markdown",
   "id": "6d90d37d",
   "metadata": {},
   "source": [
    "### Reducers"
   ]
  },
  {
   "cell_type": "code",
   "execution_count": 26,
   "id": "43c01803",
   "metadata": {},
   "outputs": [],
   "source": [
    "from functools import reduce"
   ]
  },
  {
   "cell_type": "code",
   "execution_count": 28,
   "id": "7d13bebd",
   "metadata": {},
   "outputs": [
    {
     "data": {
      "text/plain": [
       "24"
      ]
     },
     "execution_count": 28,
     "metadata": {},
     "output_type": "execute_result"
    }
   ],
   "source": [
    "def product(x,y):\n",
    "    return x * y\n",
    "arr = [1,2,3,4]\n",
    "reduce(product,arr)"
   ]
  },
  {
   "cell_type": "markdown",
   "id": "0ffc337c",
   "metadata": {},
   "source": [
    "it reduces the current array to a single value, based on a functiom(that contain two argumnts)"
   ]
  },
  {
   "cell_type": "markdown",
   "id": "4504341d",
   "metadata": {},
   "source": [
    "### Lambda"
   ]
  },
  {
   "cell_type": "code",
   "execution_count": 34,
   "id": "6b3e89a0",
   "metadata": {},
   "outputs": [
    {
     "data": {
      "text/plain": [
       "[1, 4, 9, 16, 25, 36, 49, 64]"
      ]
     },
     "execution_count": 34,
     "metadata": {},
     "output_type": "execute_result"
    }
   ],
   "source": [
    "numbers = [1,2,3,4,5,6,7,8]\n",
    "square = list(map(lambda x:x**2,numbers))\n",
    "square"
   ]
  },
  {
   "cell_type": "code",
   "execution_count": 35,
   "id": "fd65f727",
   "metadata": {},
   "outputs": [
    {
     "data": {
      "text/plain": [
       "24"
      ]
     },
     "execution_count": 35,
     "metadata": {},
     "output_type": "execute_result"
    }
   ],
   "source": [
    "arr = [1,2,3,4]\n",
    "reduce(lambda x,y:x*y,arr)"
   ]
  },
  {
   "cell_type": "code",
   "execution_count": 40,
   "id": "48ddb05c",
   "metadata": {},
   "outputs": [
    {
     "data": {
      "text/plain": [
       "[2, 4]"
      ]
     },
     "execution_count": 40,
     "metadata": {},
     "output_type": "execute_result"
    }
   ],
   "source": [
    "# positiuve numbers\n",
    "num = [-1,2,4,-9]\n",
    "list(filter(lambda x:x>0,num))"
   ]
  },
  {
   "cell_type": "code",
   "execution_count": 42,
   "id": "710a223b",
   "metadata": {},
   "outputs": [
    {
     "data": {
      "text/plain": [
       "[-1, -9]"
      ]
     },
     "execution_count": 42,
     "metadata": {},
     "output_type": "execute_result"
    }
   ],
   "source": [
    "#Negative numbers\n",
    "\n",
    "num = [-1,2,4,-9]\n",
    "list(filter(lambda x:x<0,num))"
   ]
  },
  {
   "cell_type": "code",
   "execution_count": null,
   "id": "3e148477",
   "metadata": {},
   "outputs": [],
   "source": []
  }
 ],
 "metadata": {
  "kernelspec": {
   "display_name": "Python 3 (ipykernel)",
   "language": "python",
   "name": "python3"
  },
  "language_info": {
   "codemirror_mode": {
    "name": "ipython",
    "version": 3
   },
   "file_extension": ".py",
   "mimetype": "text/x-python",
   "name": "python",
   "nbconvert_exporter": "python",
   "pygments_lexer": "ipython3",
   "version": "3.9.7"
  }
 },
 "nbformat": 4,
 "nbformat_minor": 5
}
