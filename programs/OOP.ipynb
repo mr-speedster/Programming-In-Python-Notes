{
 "cells": [
  {
   "cell_type": "code",
   "execution_count": 5,
   "id": "4bdc127f",
   "metadata": {},
   "outputs": [
    {
     "name": "stdout",
     "output_type": "stream",
     "text": [
      "5/6\n"
     ]
    }
   ],
   "source": [
    "class Rational(object):\n",
    "    def __init__(self,numer,denom):\n",
    "        self.numer = numer\n",
    "        self.denom = denom\n",
    "        self._reduce()\n",
    "    def _reduce(self):\n",
    "        divisor = self._gcd(self.numer,self.denom)\n",
    "        self.numer = self.numer//divisor\n",
    "        self.denom = self.denom//divisor\n",
    "    def _gcd(self,a,b):\n",
    "        a,b = max(a,b),min(a,b)\n",
    "        while b>0:\n",
    "            a,b = b,a%b\n",
    "        return a\n",
    "    def __add__(self,other):\n",
    "        newNumer = self.numer*other.denom + self.denom*other.numer\n",
    "        newDenom = self.denom * other.denom\n",
    "        return Rational(newNumer,newDenom)\n",
    "    def __str__(self):\n",
    "        return str(self.numer)+\"/\"+str(self.denom)\n",
    "x = Rational(4,12)\n",
    "y = Rational(3,6)\n",
    "c = x + y\n",
    "print(c)"
   ]
  },
  {
   "cell_type": "code",
   "execution_count": 6,
   "id": "198577b4",
   "metadata": {},
   "outputs": [
    {
     "name": "stdout",
     "output_type": "stream",
     "text": [
      "3+i11\n"
     ]
    }
   ],
   "source": [
    "class Complex():\n",
    "    def __init__(self,real,image):\n",
    "        self.real = real\n",
    "        self.image = image\n",
    "    def __add__(self,other):\n",
    "        newReal = self.real + other.real\n",
    "        newImage = self.image + other.image\n",
    "        return Complex(newReal,newImage)\n",
    "    def __str__(self):\n",
    "        return str(self.real)+\"+i\"+str(self.image)\n",
    "x = Complex(1,5)\n",
    "y = Complex(2,6)\n",
    "print(x+y)"
   ]
  },
  {
   "cell_type": "code",
   "execution_count": 12,
   "id": "8ddf0cf6",
   "metadata": {},
   "outputs": [
    {
     "name": "stdout",
     "output_type": "stream",
     "text": [
      "ajith D\n"
     ]
    }
   ],
   "source": [
    "from abc import ABC ,abstractmethod\n",
    "class Example(ABC):\n",
    "    @abstractmethod\n",
    "    def name(self,name):\n",
    "        pass\n",
    "class Child(Example):\n",
    "    def name(self,name):\n",
    "        self.name = name\n",
    "        print(self.name)\n",
    "obj = Child()\n",
    "obj.name(\"ajith D\")"
   ]
  },
  {
   "cell_type": "markdown",
   "id": "1a50bb9a",
   "metadata": {},
   "source": [
    " "
   ]
  },
  {
   "cell_type": "markdown",
   "id": "be395a28",
   "metadata": {},
   "source": [
    "### Exceptions"
   ]
  },
  {
   "cell_type": "code",
   "execution_count": 11,
   "id": "f1b731d8",
   "metadata": {},
   "outputs": [
    {
     "name": "stdout",
     "output_type": "stream",
     "text": [
      "Can't devide by zero\n",
      "It always work\n"
     ]
    }
   ],
   "source": [
    "try:\n",
    "    a = 10\n",
    "    b = 0\n",
    "    c = a/b\n",
    "    print(c)\n",
    "except ZeroDivisionError:\n",
    "    print(\"Can't devide by zero\")\n",
    "finally:\n",
    "    print(\"It always work\")"
   ]
  },
  {
   "cell_type": "code",
   "execution_count": null,
   "id": "c1a0ca18",
   "metadata": {},
   "outputs": [],
   "source": []
  }
 ],
 "metadata": {
  "kernelspec": {
   "display_name": "Python 3 (ipykernel)",
   "language": "python",
   "name": "python3"
  },
  "language_info": {
   "codemirror_mode": {
    "name": "ipython",
    "version": 3
   },
   "file_extension": ".py",
   "mimetype": "text/x-python",
   "name": "python",
   "nbconvert_exporter": "python",
   "pygments_lexer": "ipython3",
   "version": "3.9.7"
  }
 },
 "nbformat": 4,
 "nbformat_minor": 5
}
