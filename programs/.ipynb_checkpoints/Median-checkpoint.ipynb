{
 "cells": [
  {
   "cell_type": "code",
   "execution_count": 5,
   "id": "c1ccb5ff",
   "metadata": {},
   "outputs": [
    {
     "data": {
      "text/plain": [
       "[1, 2, 3, 4, 5, 6, 7, 8, 9, 10, 11, 12, 14, 15, 16, 17, 18, 19, 20, 21, 24]"
      ]
     },
     "execution_count": 5,
     "metadata": {},
     "output_type": "execute_result"
    }
   ],
   "source": [
    "numbers = []\n",
    "file = open('numbers.txt','r')\n",
    "for line in file:\n",
    "    words = line.split()\n",
    "    for x in words:\n",
    "      numbers.append(int(x))\n",
    "numbers.sort()\n",
    "def median(num_list):\n",
    "    midPoint = len(num_list)//2"
   ]
  },
  {
   "cell_type": "code",
   "execution_count": null,
   "id": "a429b1aa",
   "metadata": {},
   "outputs": [],
   "source": []
  }
 ],
 "metadata": {
  "kernelspec": {
   "display_name": "Python 3 (ipykernel)",
   "language": "python",
   "name": "python3"
  },
  "language_info": {
   "codemirror_mode": {
    "name": "ipython",
    "version": 3
   },
   "file_extension": ".py",
   "mimetype": "text/x-python",
   "name": "python",
   "nbconvert_exporter": "python",
   "pygments_lexer": "ipython3",
   "version": "3.9.7"
  }
 },
 "nbformat": 4,
 "nbformat_minor": 5
}
