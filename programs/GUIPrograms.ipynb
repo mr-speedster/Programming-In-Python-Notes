{
 "cells": [
  {
   "cell_type": "code",
   "execution_count": 3,
   "id": "ed1675b9",
   "metadata": {},
   "outputs": [],
   "source": [
    "#Hello world\n",
    "from breezypythongui import EasyFrame\n",
    "\n",
    "class HelloWorld(EasyFrame):\n",
    "    def __init__(self):\n",
    "        EasyFrame.__init__(self)\n",
    "        self.addLabel(text=\"Hello World!\",row=0,column=0)\n",
    "def main():\n",
    "    HelloWorld().mainloop()\n",
    "\n",
    "if __name__ == \"__main__\":\n",
    "    main()"
   ]
  },
  {
   "cell_type": "code",
   "execution_count": 1,
   "id": "4ad043cc",
   "metadata": {},
   "outputs": [],
   "source": [
    "from breezypythongui import EasyFrame\n",
    "\n",
    "class TwoNumberSum(EasyFrame):\n",
    "    def __init__(self):\n",
    "        EasyFrame.__init__(\n",
    "            self,title=\"Simple Sum\",\n",
    "            width = 400,\n",
    "            height = 200,\n",
    "            background = \"black\",\n",
    "            resizable = False\n",
    "        )\n",
    "        self.addLabel(text = \"Enter the Numbers\",row=0,column=1)\n",
    "        self.num1 = self.addFloatField(value = 0.0,row = 1,column=0,width=10)\n",
    "        self.num2 = self.addFloatField(value = 0.0,row = 1,column=2,width=10)\n",
    "        self.result = self.addTextField(text=\"\",row = 2,column=1,state=\"readonly\")\n",
    "        self.claculate = self.addButton(text=\"Calculate\",row=3,column=1,columnspan=2,command=self.calculateSum)\n",
    "    def calculateSum(self):\n",
    "        num1 = self.num1.getNumber()\n",
    "        num2 = self.num2.getNumber()\n",
    "        result = num1 + num2\n",
    "        self.result.setText(result)\n",
    "\n",
    "TwoNumberSum().mainloop()"
   ]
  },
  {
   "cell_type": "code",
   "execution_count": 1,
   "id": "aa12d103",
   "metadata": {},
   "outputs": [],
   "source": [
    "#String to uppercase\n",
    "from breezypythongui import EasyFrame\n",
    "\n",
    "class TextToUpper(EasyFrame):\n",
    "    def __init__(self):\n",
    "        EasyFrame.__init__(\n",
    "            self,title=\"Text Converter\",\n",
    "            width = 400,\n",
    "            height = 200,\n",
    "            background = \"black\",\n",
    "            resizable = False\n",
    "        )\n",
    "        self.inputText = self.addTextField(text=\"\",row=0,column=0)\n",
    "        self.outputText = self.addTextField(text=\"\",row=1,column=0,state=\"readonly\")\n",
    "        self.convert = self.addButton(text=\"Convert\",row=2,column=0,columnspan=2,command=self.textConvert)\n",
    "    def textConvert(self):\n",
    "        text = self.inputText.getText()\n",
    "        text = text.upper()\n",
    "        self.outputText.setText(text)\n",
    "        \n",
    "TextToUpper().mainloop()"
   ]
  },
  {
   "cell_type": "code",
   "execution_count": 5,
   "id": "c5c3a882",
   "metadata": {},
   "outputs": [],
   "source": [
    "#String to uppercase\n",
    "from breezypythongui import EasyFrame\n",
    "\n",
    "class NumberSquare(EasyFrame):\n",
    "    def __init__(self):\n",
    "        EasyFrame.__init__(\n",
    "            self,title=\"Number Square\",\n",
    "            width = 400,\n",
    "            height = 200,\n",
    "            background = \"black\",\n",
    "            resizable = False\n",
    "        )\n",
    "        self.inputNumber = self.addIntegerField(value=\"\",row=0,column=0)\n",
    "        self.outputNumber = self.addIntegerField(value=\"\",row=1,column=0,state=\"readonly\")\n",
    "        self.convert = self.addButton(text=\"Convert\",row=2,column=0,columnspan=2,command=self.square)\n",
    "        \n",
    "    def square(self):\n",
    "        try:\n",
    "            num = self.inputNumber.getNumber()\n",
    "            num = num**2\n",
    "            self.outputNumber.setNumber(num)\n",
    "        except ValueError:\n",
    "            self.messageBox(title=\"Error\",message=\"the input might be an integer\")\n",
    "        \n",
    "NumberSquare().mainloop()"
   ]
  },
  {
   "cell_type": "code",
   "execution_count": null,
   "id": "921e0a5f",
   "metadata": {},
   "outputs": [],
   "source": []
  }
 ],
 "metadata": {
  "kernelspec": {
   "display_name": "Python 3 (ipykernel)",
   "language": "python",
   "name": "python3"
  },
  "language_info": {
   "codemirror_mode": {
    "name": "ipython",
    "version": 3
   },
   "file_extension": ".py",
   "mimetype": "text/x-python",
   "name": "python",
   "nbconvert_exporter": "python",
   "pygments_lexer": "ipython3",
   "version": "3.9.7"
  }
 },
 "nbformat": 4,
 "nbformat_minor": 5
}
