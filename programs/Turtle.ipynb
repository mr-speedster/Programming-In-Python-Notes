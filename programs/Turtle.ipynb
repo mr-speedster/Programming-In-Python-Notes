{
 "cells": [
  {
   "cell_type": "code",
   "execution_count": 1,
   "id": "832bc1b3",
   "metadata": {},
   "outputs": [],
   "source": [
    "from turtle import *\n",
    "\n",
    "t = Turtle()\n",
    "wn = Screen()\n",
    "wn.bgcolor('cyan')\n",
    "\n",
    "t.right(90)\n",
    "t.forward(40)\n",
    "t.left(180)\n",
    "t.forward(80)\n",
    "t.right(90)\n",
    "t.forward(60)\n",
    "t.right(90)\n",
    "t.forward(80)\n",
    "t.left(180)\n",
    "t.forward(40)\n",
    "t.left(90)\n",
    "t.forward(60)"
   ]
  },
  {
   "cell_type": "code",
   "execution_count": 2,
   "id": "2c4fb084",
   "metadata": {},
   "outputs": [],
   "source": [
    "t.clear()"
   ]
  },
  {
   "cell_type": "markdown",
   "id": "e85e16bd",
   "metadata": {},
   "source": [
    "### Square using loop"
   ]
  },
  {
   "cell_type": "code",
   "execution_count": 23,
   "id": "c20d0348",
   "metadata": {},
   "outputs": [],
   "source": [
    "for i in range(4):\n",
    "    t.forward(60)\n",
    "    t.left(90)"
   ]
  },
  {
   "cell_type": "code",
   "execution_count": 28,
   "id": "bf366142",
   "metadata": {},
   "outputs": [],
   "source": [
    "t.clear()"
   ]
  },
  {
   "cell_type": "markdown",
   "id": "80efeae6",
   "metadata": {},
   "source": [
    "### goto ,up,down"
   ]
  },
  {
   "cell_type": "code",
   "execution_count": 3,
   "id": "1dda016d",
   "metadata": {},
   "outputs": [],
   "source": [
    "#First A\n",
    "t.home()\n",
    "t.right(90)\n",
    "t.forward(40)\n",
    "t.left(180)\n",
    "t.forward(80)\n",
    "t.right(90)\n",
    "t.forward(60)\n",
    "t.right(90)\n",
    "t.forward(80)\n",
    "t.left(180)\n",
    "t.forward(40)\n",
    "t.left(90)\n",
    "t.forward(60)\n",
    "\n"
   ]
  },
  {
   "cell_type": "code",
   "execution_count": 4,
   "id": "dd5d62c1",
   "metadata": {},
   "outputs": [],
   "source": [
    "#second A\n",
    "t.pencolor('red')\n",
    "t.up()\n",
    "t.goto(100,0)"
   ]
  },
  {
   "cell_type": "code",
   "execution_count": 5,
   "id": "5694ec8e",
   "metadata": {},
   "outputs": [],
   "source": [
    "t.down()\n",
    "t.left(90)\n",
    "t.forward(40)\n",
    "t.left(180)\n",
    "t.forward(80)\n",
    "t.right(90)\n",
    "t.forward(60)\n",
    "t.right(90)\n",
    "t.forward(80)\n",
    "t.backward(40)\n",
    "t.right(90)\n",
    "t.forward(60)"
   ]
  },
  {
   "cell_type": "code",
   "execution_count": 9,
   "id": "3a2703d0",
   "metadata": {},
   "outputs": [],
   "source": [
    "t.clear()\n",
    "t.fillcolor('red')\n",
    "t.begin_fill()\n",
    "for i in range(4):\n",
    "    t.forward(60)\n",
    "    t.left(90)\n",
    "t.end_fill()"
   ]
  },
  {
   "cell_type": "markdown",
   "id": "988f5320",
   "metadata": {},
   "source": [
    "### Circle "
   ]
  },
  {
   "cell_type": "code",
   "execution_count": 13,
   "id": "bc3fb0a2",
   "metadata": {},
   "outputs": [],
   "source": [
    "t.clear()"
   ]
  },
  {
   "cell_type": "code",
   "execution_count": 14,
   "id": "4a68f6f9",
   "metadata": {},
   "outputs": [],
   "source": [
    "t.circle(50)"
   ]
  },
  {
   "cell_type": "code",
   "execution_count": 15,
   "id": "859f3fa8",
   "metadata": {},
   "outputs": [],
   "source": [
    "t.circle(50,steps=3)"
   ]
  },
  {
   "cell_type": "code",
   "execution_count": 22,
   "id": "d7b5f824",
   "metadata": {},
   "outputs": [],
   "source": [
    "t.clear()"
   ]
  },
  {
   "cell_type": "code",
   "execution_count": 23,
   "id": "f517b506",
   "metadata": {},
   "outputs": [],
   "source": [
    "t.circle(50,steps=6)"
   ]
  },
  {
   "cell_type": "code",
   "execution_count": 21,
   "id": "8fbe629b",
   "metadata": {},
   "outputs": [],
   "source": [
    "t.circle(50,steps=5)"
   ]
  },
  {
   "cell_type": "code",
   "execution_count": 24,
   "id": "6d2cf7a2",
   "metadata": {},
   "outputs": [],
   "source": [
    "t.clear()"
   ]
  },
  {
   "cell_type": "code",
   "execution_count": 29,
   "id": "c6637a31",
   "metadata": {},
   "outputs": [],
   "source": [
    "#T shae with different color\n",
    "t.pencolor(\"#ffff00\")\n",
    "t.forward(100)\n",
    "t.backward(50)\n",
    "t.right(90)\n",
    "t.pencolor(\"#000\")\n",
    "t.forward(100)"
   ]
  },
  {
   "cell_type": "code",
   "execution_count": 39,
   "id": "096a0bdb",
   "metadata": {},
   "outputs": [],
   "source": [
    "t.clear()"
   ]
  },
  {
   "cell_type": "code",
   "execution_count": 47,
   "id": "c60bf915",
   "metadata": {},
   "outputs": [],
   "source": [
    "## Polygon n sides\n",
    "n = 100\n",
    "for i in range(n):\n",
    "    t.forward(50)\n",
    "    t.left(360/n)\n"
   ]
  },
  {
   "cell_type": "code",
   "execution_count": null,
   "id": "69e115ec",
   "metadata": {},
   "outputs": [],
   "source": []
  }
 ],
 "metadata": {
  "kernelspec": {
   "display_name": "Python 3 (ipykernel)",
   "language": "python",
   "name": "python3"
  },
  "language_info": {
   "codemirror_mode": {
    "name": "ipython",
    "version": 3
   },
   "file_extension": ".py",
   "mimetype": "text/x-python",
   "name": "python",
   "nbconvert_exporter": "python",
   "pygments_lexer": "ipython3",
   "version": "3.9.7"
  }
 },
 "nbformat": 4,
 "nbformat_minor": 5
}
