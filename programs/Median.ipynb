{
 "cells": [
  {
   "cell_type": "code",
   "execution_count": 8,
   "id": "608fe168",
   "metadata": {},
   "outputs": [
    {
     "name": "stdout",
     "output_type": "stream",
     "text": [
      "[1, 2, 3, 4, 5, 6, 7, 8, 9, 10, 11, 12, 14, 15, 16, 17, 18, 19, 20, 21, 24] 21\n",
      "11\n"
     ]
    }
   ],
   "source": [
    "numbers = []\n",
    "file = open('numbers.txt','r')\n",
    "for line in file:\n",
    "    words = line.split()\n",
    "    for x in words:\n",
    "      numbers.append(int(x))\n",
    "numbers.sort()\n",
    "def median(num_list):\n",
    "    midPoint = len(num_list)//2\n",
    "    if(len(num_list)%2 == 1):\n",
    "        print(num_list[midPoint])\n",
    "    else:\n",
    "        print((num_list[midPoint]+num_list[midPoint-1])/2)\n",
    "print(numbers,len(numbers))\n",
    "median(numbers)"
   ]
  },
  {
   "cell_type": "code",
   "execution_count": null,
   "id": "6179a8cd",
   "metadata": {},
   "outputs": [],
   "source": []
  }
 ],
 "metadata": {
  "kernelspec": {
   "display_name": "Python 3 (ipykernel)",
   "language": "python",
   "name": "python3"
  },
  "language_info": {
   "codemirror_mode": {
    "name": "ipython",
    "version": 3
   },
   "file_extension": ".py",
   "mimetype": "text/x-python",
   "name": "python",
   "nbconvert_exporter": "python",
   "pygments_lexer": "ipython3",
   "version": "3.9.7"
  }
 },
 "nbformat": 4,
 "nbformat_minor": 5
}
