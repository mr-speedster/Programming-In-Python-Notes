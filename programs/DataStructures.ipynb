{
 "cells": [
  {
   "cell_type": "markdown",
   "id": "3f6b5f2e",
   "metadata": {},
   "source": [
    "### Tuples"
   ]
  },
  {
   "cell_type": "code",
   "execution_count": 6,
   "id": "88aa4581",
   "metadata": {},
   "outputs": [
    {
     "data": {
      "text/plain": [
       "('apple', 'orenge', 'pappaya')"
      ]
     },
     "execution_count": 6,
     "metadata": {},
     "output_type": "execute_result"
    }
   ],
   "source": [
    "fruits = (\"apple\",\"orenge\",\"pappaya\")\n",
    "fruits"
   ]
  },
  {
   "cell_type": "code",
   "execution_count": 7,
   "id": "1f2c9d46",
   "metadata": {},
   "outputs": [
    {
     "name": "stdout",
     "output_type": "stream",
     "text": [
      "<class 'str'>\n",
      "<class 'tuple'>\n"
     ]
    }
   ],
   "source": [
    "fruits2 = (\"apple\",)\n",
    "fruits1 = (\"apple\")\n",
    "print(type(fruits1))\n",
    "print(type(fruits2))"
   ]
  },
  {
   "cell_type": "markdown",
   "id": "87596a14",
   "metadata": {},
   "source": [
    "#### to create a one element tuple we have to put a comma after the element else the python taken that tuple as a single string"
   ]
  },
  {
   "cell_type": "markdown",
   "id": "bfae50ba",
   "metadata": {},
   "source": [
    "  "
   ]
  },
  {
   "cell_type": "markdown",
   "id": "fe33268d",
   "metadata": {},
   "source": [
    "### Dictionary"
   ]
  },
  {
   "cell_type": "code",
   "execution_count": 11,
   "id": "0e37b149",
   "metadata": {},
   "outputs": [
    {
     "data": {
      "text/plain": [
       "{'key1': 'value1', 'key2': 'value2', 'key3': 'value3'}"
      ]
     },
     "execution_count": 11,
     "metadata": {},
     "output_type": "execute_result"
    }
   ],
   "source": [
    "dict = {}\n",
    "\n",
    "dict['key1'] = \"value1\"\n",
    "dict['key2'] = \"value2\"\n",
    "dict['key3'] = \"value3\"\n",
    "\n",
    "dict"
   ]
  },
  {
   "cell_type": "code",
   "execution_count": 14,
   "id": "70b09038",
   "metadata": {},
   "outputs": [
    {
     "name": "stdout",
     "output_type": "stream",
     "text": [
      "<class 'dict'>\n"
     ]
    }
   ],
   "source": [
    "mobile = {\n",
    "    'samsung':['j6+','A10','Pro Max'],\n",
    "    'Realme' :['Note10','note11'],\n",
    "    'iPhone' :'Pro 11 max',\n",
    "    'price' : 10000\n",
    "}\n",
    "print(type(mobile))"
   ]
  },
  {
   "cell_type": "code",
   "execution_count": 15,
   "id": "3cd27265",
   "metadata": {},
   "outputs": [
    {
     "data": {
      "text/plain": [
       "['j6+', 'A10', 'Pro Max']"
      ]
     },
     "execution_count": 15,
     "metadata": {},
     "output_type": "execute_result"
    }
   ],
   "source": [
    "mobile['samsung']"
   ]
  },
  {
   "cell_type": "code",
   "execution_count": 18,
   "id": "6e6d6438",
   "metadata": {},
   "outputs": [
    {
     "data": {
      "text/plain": [
       "{'samsung': ['j6+', 'A10', 'Pro Max'],\n",
       " 'Realme': ['Note10', 'note11'],\n",
       " 'iPhone': '11 Pro Max',\n",
       " 'price': 10000}"
      ]
     },
     "execution_count": 18,
     "metadata": {},
     "output_type": "execute_result"
    }
   ],
   "source": [
    "mobile[\"iPhone\"] = \"11 Pro Max\"\n",
    "mobile"
   ]
  },
  {
   "cell_type": "code",
   "execution_count": 24,
   "id": "dc021a38",
   "metadata": {},
   "outputs": [
    {
     "name": "stdout",
     "output_type": "stream",
     "text": [
      "element nahi\n"
     ]
    }
   ],
   "source": [
    "print(mobile.get('prices','element nahi'))"
   ]
  },
  {
   "cell_type": "code",
   "execution_count": 26,
   "id": "a91e453c",
   "metadata": {},
   "outputs": [
    {
     "name": "stdout",
     "output_type": "stream",
     "text": [
      "samsung ---> ['j6+', 'A10', 'Pro Max']\n",
      "Realme ---> ['Note10', 'note11']\n",
      "iPhone ---> 11 Pro Max\n",
      "price ---> 10000\n"
     ]
    }
   ],
   "source": [
    "for key in mobile:\n",
    "    print(key,\"--->\",mobile[key])"
   ]
  },
  {
   "cell_type": "code",
   "execution_count": 27,
   "id": "a3d7dac6",
   "metadata": {},
   "outputs": [],
   "source": [
    "mobile[10] = \"Ajith\""
   ]
  },
  {
   "cell_type": "code",
   "execution_count": 28,
   "id": "2edab045",
   "metadata": {},
   "outputs": [
    {
     "data": {
      "text/plain": [
       "{'samsung': ['j6+', 'A10', 'Pro Max'],\n",
       " 'Realme': ['Note10', 'note11'],\n",
       " 'iPhone': '11 Pro Max',\n",
       " 'price': 10000,\n",
       " 10: 'Ajith'}"
      ]
     },
     "execution_count": 28,
     "metadata": {},
     "output_type": "execute_result"
    }
   ],
   "source": [
    "mobile"
   ]
  },
  {
   "cell_type": "code",
   "execution_count": 29,
   "id": "dc2fde18",
   "metadata": {},
   "outputs": [
    {
     "data": {
      "text/plain": [
       "'Ajith'"
      ]
     },
     "execution_count": 29,
     "metadata": {},
     "output_type": "execute_result"
    }
   ],
   "source": [
    "mobile.pop(10)"
   ]
  },
  {
   "cell_type": "code",
   "execution_count": 30,
   "id": "54fea01f",
   "metadata": {},
   "outputs": [
    {
     "data": {
      "text/plain": [
       "['samsung', 'Realme', 'iPhone', 'price']"
      ]
     },
     "execution_count": 30,
     "metadata": {},
     "output_type": "execute_result"
    }
   ],
   "source": [
    "list(mobile.keys())"
   ]
  },
  {
   "cell_type": "code",
   "execution_count": 31,
   "id": "51d20448",
   "metadata": {},
   "outputs": [
    {
     "data": {
      "text/plain": [
       "[['j6+', 'A10', 'Pro Max'], ['Note10', 'note11'], '11 Pro Max', 10000]"
      ]
     },
     "execution_count": 31,
     "metadata": {},
     "output_type": "execute_result"
    }
   ],
   "source": [
    "list(mobile.values())"
   ]
  },
  {
   "cell_type": "code",
   "execution_count": 32,
   "id": "c2227c4e",
   "metadata": {},
   "outputs": [
    {
     "data": {
      "text/plain": [
       "[('samsung', ['j6+', 'A10', 'Pro Max']),\n",
       " ('Realme', ['Note10', 'note11']),\n",
       " ('iPhone', '11 Pro Max'),\n",
       " ('price', 10000)]"
      ]
     },
     "execution_count": 32,
     "metadata": {},
     "output_type": "execute_result"
    }
   ],
   "source": [
    "list(mobile.items())"
   ]
  },
  {
   "cell_type": "code",
   "execution_count": null,
   "id": "659c27e1",
   "metadata": {},
   "outputs": [],
   "source": []
  }
 ],
 "metadata": {
  "kernelspec": {
   "display_name": "Python 3 (ipykernel)",
   "language": "python",
   "name": "python3"
  },
  "language_info": {
   "codemirror_mode": {
    "name": "ipython",
    "version": 3
   },
   "file_extension": ".py",
   "mimetype": "text/x-python",
   "name": "python",
   "nbconvert_exporter": "python",
   "pygments_lexer": "ipython3",
   "version": "3.9.7"
  }
 },
 "nbformat": 4,
 "nbformat_minor": 5
}
